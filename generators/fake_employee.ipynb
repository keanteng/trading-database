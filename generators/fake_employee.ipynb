{
 "cells": [
  {
   "cell_type": "code",
   "execution_count": 8,
   "metadata": {},
   "outputs": [],
   "source": [
    "from faker import Faker\n",
    "import json\n",
    "import sqlite3\n",
    "import random\n",
    "import secrets"
   ]
  },
  {
   "cell_type": "code",
   "execution_count": 9,
   "metadata": {},
   "outputs": [],
   "source": [
    "# gacha function to generate employee role\n",
    "def gacha_role():\n",
    "    role = [\n",
    "        \"Manager\",\n",
    "        \"Assistant Manager\",\n",
    "        \"Supervisor\",\n",
    "        \"Accountant\",\n",
    "        \"Clerk\",\n",
    "        \"Salesman\",\n",
    "        \"Driver\",\n",
    "        \"Storkeeper\"\n",
    "    ]\n",
    "    \n",
    "    weights = [\n",
    "        0.05,  # Manager\n",
    "        0.10,  # Assistant Manager\n",
    "        0.15,  # Supervisor\n",
    "        0.20,  # Accountant\n",
    "        0.20,  # Clerk\n",
    "        0.15,  # Salesman\n",
    "        0.10,  # Driver\n",
    "        0.05   # Storkeeper\n",
    "    ]\n",
    "    \n",
    "    selected_role = random.choices(role, weights, k=1)[0]\n",
    "    \n",
    "    return selected_role\n",
    "\n",
    "# gacha gender\n",
    "def gacha_gender():\n",
    "    gender = ['Male', 'Female']\n",
    "    weights = [0.5, 0.5]\n",
    "    \n",
    "    return random.choices(gender, weights, k=1)[0]"
   ]
  },
  {
   "cell_type": "code",
   "execution_count": 10,
   "metadata": {},
   "outputs": [],
   "source": [
    "# cyrpto id generator\n",
    "def crypto_id():\n",
    "    return secrets.token_hex(36)"
   ]
  },
  {
   "cell_type": "code",
   "execution_count": 11,
   "metadata": {},
   "outputs": [],
   "source": [
    "# fake employee data generator\n",
    "def fake_employee():\n",
    "    fake = Faker(['en_US', 'ja_JP', 'ko_KR', 'zh_CN'])\n",
    "    \n",
    "    fake_employee = {\n",
    "        \"employee_id\": crypto_id(),\n",
    "        \"age\": fake.random_int(min=18, max=65),\n",
    "        \"name\" : fake.name(),\n",
    "        \"gender\": gacha_gender(),\n",
    "        \"address\" : fake.address(),\n",
    "        \"role\": gacha_role(),\n",
    "        \"email\": fake.email(),\n",
    "        \"phone_number\": fake.phone_number(),\n",
    "        \"salary\": fake.random_int(min=1000, max=10000),\n",
    "        \"hire_date\": fake.date(),\n",
    "    }\n",
    "    \n",
    "    return fake_employee\n",
    "\n",
    "# generate multiple fake employee JSON\n",
    "def generate_multiple_fake_employee(n):\n",
    "    employees = [fake_employee() for _ in range(n)]\n",
    "    return json.dumps(employees)"
   ]
  },
  {
   "cell_type": "code",
   "execution_count": 12,
   "metadata": {},
   "outputs": [
    {
     "name": "stdout",
     "output_type": "stream",
     "text": [
      "{'employee_id': '5ebc8ebc2d98d54620a5bed653dcf7922ceb2e5fac45f546dba3ea7df768eaab48b65709', 'age': 61, 'name': '太田 健一', 'gender': 'Male', 'address': '北海道川崎市川崎区氏家新田31丁目13番10号 竜泉シャルム925', 'role': 'Supervisor', 'email': 'dengwei@example.net', 'phone_number': '13678024889', 'salary': 4836, 'hire_date': '1975-06-25'}\n"
     ]
    }
   ],
   "source": [
    "print(fake_employee())"
   ]
  },
  {
   "cell_type": "code",
   "execution_count": 13,
   "metadata": {},
   "outputs": [],
   "source": [
    "# insert fake employee data to sqlite3\n",
    "conn = sqlite3.connect('database/database.db')\n",
    "c = conn.cursor()\n",
    "\n",
    "c.execute(\n",
    "    '''\n",
    "    CREATE TABLE IF NOT EXISTS employees (\n",
    "        employee_id TEXT PRIMARY KEY NOT NULL,\n",
    "        age INTEGER NOT NULL,\n",
    "        name TEXT NOT NULL,\n",
    "        gender TEXT NOT NULL,\n",
    "        address TEXT NOT NULL,\n",
    "        role TEXT NOT NULL,\n",
    "        email TEXT NOT NULL,\n",
    "        phone_number TEXT NOT NULL,\n",
    "        salary REAL NOT NULL,\n",
    "        hire_date TEXT NOT NULL\n",
    "    )\n",
    "    '''\n",
    ")\n",
    "\n",
    "json_data = generate_multiple_fake_employee(200)\n",
    "\n",
    "for employee in json.loads(json_data):\n",
    "    c.execute(\n",
    "        '''INSERT INTO employees(employee_id, age, name,gender,address,role, email, phone_number, salary, hire_date)\n",
    "            VALUES(?,?,?,?,?,?,?,?,?,?)\n",
    "        ''', \n",
    "            (\n",
    "            employee['employee_id'], \n",
    "            employee['age'],\n",
    "            employee['name'],\n",
    "            employee['gender'],\n",
    "            employee['address'],\n",
    "            employee['role'],\n",
    "            employee['email'],\n",
    "            employee['phone_number'],\n",
    "            employee['salary'],\n",
    "            employee['hire_date']\n",
    "            )\n",
    "    )\n",
    "                \n",
    "conn.commit()\n",
    "conn.close()\n",
    "                 "
   ]
  },
  {
   "cell_type": "code",
   "execution_count": 14,
   "metadata": {},
   "outputs": [],
   "source": [
    "# delete the table employees\n",
    "#conn = sqlite3.connect('database/database.db')\n",
    "#c = conn.cursor()\n",
    "# c.execute('DROP TABLE employees')"
   ]
  }
 ],
 "metadata": {
  "kernelspec": {
   "display_name": "Python 3",
   "language": "python",
   "name": "python3"
  },
  "language_info": {
   "codemirror_mode": {
    "name": "ipython",
    "version": 3
   },
   "file_extension": ".py",
   "mimetype": "text/x-python",
   "name": "python",
   "nbconvert_exporter": "python",
   "pygments_lexer": "ipython3",
   "version": "3.11.4"
  }
 },
 "nbformat": 4,
 "nbformat_minor": 2
}
