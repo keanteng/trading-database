{
 "cells": [
  {
   "cell_type": "code",
   "execution_count": 1,
   "metadata": {},
   "outputs": [],
   "source": [
    "from faker import Faker\n",
    "import json\n",
    "import sqlite3\n",
    "import random\n",
    "import secrets"
   ]
  },
  {
   "cell_type": "code",
   "execution_count": 2,
   "metadata": {},
   "outputs": [],
   "source": [
    "# get the salesman from the database\n",
    "def get_salesman():\n",
    "    conn = sqlite3.connect(\"database/database.db\")\n",
    "    cursor = conn.cursor()\n",
    "    cursor.execute(\"SELECT id, name FROM employees WHERE role = 'Salesman'\")\n",
    "    salesman = cursor.fetchall()\n",
    "    conn.close()\n",
    "    return salesman\n",
    "\n",
    "# customer crypto id\n",
    "def customer_crypto_id():\n",
    "    return secrets.token_hex(36)\n",
    "\n",
    "# customer company name\n",
    "def customer_company_name():\n",
    "    fake = Faker(['en_US', 'en_GB', 'en_AU', 'ja_JP', 'zh_CN'])\n",
    "    return fake.company()\n",
    "\n",
    "# customer address\n",
    "def customer_address():\n",
    "    fake = Faker(['en_US', 'en_GB', 'en_AU', 'ja_JP', 'zh_CN'])\n",
    "    return fake.address()\n",
    "\n",
    "# get a random salesman id\n",
    "def get_random_salesman_id(salesman):\n",
    "    return random.choice(salesman)[0]\n",
    "\n",
    "# using the random salesmand id get the name\n",
    "def get_salesman_name(salesman, salesman_id):\n",
    "    for s in salesman:\n",
    "        if s[0] == salesman_id:\n",
    "            return s[1]\n",
    "\n",
    "# get cutomer email\n",
    "def customer_email():\n",
    "    fake = Faker()\n",
    "    return fake.email()\n",
    "\n",
    "# get customer phone number\n",
    "def customer_phone_number():\n",
    "    fake = Faker()\n",
    "    return fake.phone_number()\n",
    "\n",
    "# date of registration\n",
    "def date_of_registration():\n",
    "    fake = Faker()\n",
    "    return fake.date_this_decade().strftime(\"%Y-%m-%d\")"
   ]
  },
  {
   "cell_type": "code",
   "execution_count": 3,
   "metadata": {},
   "outputs": [
    {
     "name": "stdout",
     "output_type": "stream",
     "text": [
      "{\n",
      "    \"id\": \"cc466c8ac4f21a2fd131bc2def0c99dcdda08b316fdddb12a175567128aef7c6ddc5b1eb\",\n",
      "    \"company_name\": \"Ingram-Webb\",\n",
      "    \"address\": \"24072 Paul Burg\\nWest Eric, AL 02645\",\n",
      "    \"salesman_id\": \"10abdfcf08e24533eede736968541c7c8eab1170f80a92d626e2a342391b429e566f0181\",\n",
      "    \"salesman\": \"\\u90d1\\u79c0\\u534e\",\n",
      "    \"email\": \"katelyn41@example.org\",\n",
      "    \"phone_number\": \"697.895.0534\",\n",
      "    \"date_of_registration\": \"2022-03-12\"\n",
      "}\n"
     ]
    }
   ],
   "source": [
    "def create_customer():\n",
    "    salesman = get_salesman()\n",
    "    salesman_id = get_random_salesman_id(salesman)\n",
    "    \n",
    "    customers = {\n",
    "        'id': customer_crypto_id(),\n",
    "        'company_name': customer_company_name(),\n",
    "        'address': customer_address(),\n",
    "        'salesman_id': salesman_id,\n",
    "        'salesman': get_salesman_name(salesman, salesman_id),\n",
    "        'email': customer_email(),\n",
    "        'phone_number': customer_phone_number(),\n",
    "        'date_of_registration': date_of_registration()\n",
    "    }\n",
    "    \n",
    "    return customers\n",
    "\n",
    "print(json.dumps(create_customer(), indent=4))"
   ]
  }
 ],
 "metadata": {
  "kernelspec": {
   "display_name": "Python 3",
   "language": "python",
   "name": "python3"
  },
  "language_info": {
   "codemirror_mode": {
    "name": "ipython",
    "version": 3
   },
   "file_extension": ".py",
   "mimetype": "text/x-python",
   "name": "python",
   "nbconvert_exporter": "python",
   "pygments_lexer": "ipython3",
   "version": "3.11.4"
  }
 },
 "nbformat": 4,
 "nbformat_minor": 2
}
