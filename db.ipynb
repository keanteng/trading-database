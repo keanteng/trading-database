{
 "cells": [
  {
   "cell_type": "markdown",
   "metadata": {},
   "source": [
    "# How to Use Python With SQLite\n",
    "In this notebook, we work through the CRUD processes:\n",
    "- Creating a database\n",
    "- Retrieve the data\n",
    "- Update the data\n",
    "- Delete the data"
   ]
  },
  {
   "cell_type": "code",
   "execution_count": 1,
   "metadata": {},
   "outputs": [
    {
     "name": "stdout",
     "output_type": "stream",
     "text": [
      "Opened database successfully\n"
     ]
    }
   ],
   "source": [
    "import sqlite3\n",
    "import json\n",
    "\n",
    "db = sqlite3.connect('database.db')\n",
    "print(\"Opened database successfully\")"
   ]
  },
  {
   "cell_type": "code",
   "execution_count": 2,
   "metadata": {},
   "outputs": [
    {
     "name": "stdout",
     "output_type": "stream",
     "text": [
      "Table created successfully\n"
     ]
    }
   ],
   "source": [
    "db.execute(\n",
    "    '''\n",
    "    CREATE TABLE IF NOT EXISTS COMPANY (\n",
    "        ID INT PRIMARY KEY NOT NULL,\n",
    "        NAME TEXT NOT NULL,\n",
    "        AGE INT NOT NULL,\n",
    "        ADDRESS CHAR(50),\n",
    "        SALARY REAL\n",
    "    );\n",
    "    '''\n",
    ")\n",
    "\n",
    "print(\"Table created successfully\")"
   ]
  },
  {
   "cell_type": "code",
   "execution_count": 3,
   "metadata": {},
   "outputs": [],
   "source": [
    "placeholder_data = [\n",
    "    {\n",
    "        \"id\": 1,\n",
    "        \"name\": \"Paul\",\n",
    "        \"age\": 32,\n",
    "        \"address\": 'California',\n",
    "        \"salary\": 20000.00\n",
    "    },\n",
    "    {\n",
    "        \"id\": 2,\n",
    "        \"name\": \"Allen\",\n",
    "        \"age\": 25,\n",
    "        \"address\": 'Texas',\n",
    "        \"salary\": 15000.00\n",
    "    },\n",
    "    {\n",
    "        \"id\": 3,\n",
    "        \"name\": \"Teddy\",\n",
    "        \"age\": 23,\n",
    "        \"address\": 'Norway',\n",
    "        \"salary\": 20000.00\n",
    "    },\n",
    "    {\n",
    "        \"id\": 4,\n",
    "        \"name\": \"Mark\",\n",
    "        \"age\": 25,\n",
    "        \"address\": 'Rich-Mond',\n",
    "        \"salary\": 65000.00\n",
    "    }\n",
    "]\n",
    "\n",
    "placeholder_data_json = json.dumps(placeholder_data)"
   ]
  },
  {
   "cell_type": "code",
   "execution_count": 4,
   "metadata": {},
   "outputs": [],
   "source": [
    "# map the data to the database\n",
    "for item in placeholder_data:\n",
    "    db.execute(\n",
    "        '''\n",
    "        INSERT INTO COMPANY (ID, NAME, AGE, ADDRESS, SALARY)\n",
    "        VALUES (?, ?, ?, ?, ?)\n",
    "        ''',\n",
    "        (item['id'], item['name'], item['age'], item['address'], item['salary'])\n",
    "    )\n",
    "    \n",
    "db.commit() # save the changes"
   ]
  },
  {
   "cell_type": "code",
   "execution_count": 6,
   "metadata": {},
   "outputs": [
    {
     "name": "stdout",
     "output_type": "stream",
     "text": [
      "Total salary:  120000.0\n"
     ]
    }
   ],
   "source": [
    "# sum the salary\n",
    "cursor = db.execute('SELECT SUM(SALARY) FROM COMPANY')\n",
    "for row in cursor:\n",
    "    print(\"Total salary of all staffs: \", row[0])"
   ]
  },
  {
   "cell_type": "code",
   "execution_count": 8,
   "metadata": {},
   "outputs": [],
   "source": [
    "# change id 1 salary to 1500\n",
    "db.execute('UPDATE COMPANY SET SALARY = 1500 WHERE ID = 1')\n",
    "\n",
    "# save the changes\n",
    "db.commit()"
   ]
  },
  {
   "cell_type": "code",
   "execution_count": 9,
   "metadata": {},
   "outputs": [],
   "source": [
    "# delete id 2\n",
    "db.execute('DELETE FROM COMPANY WHERE ID = 2')\n",
    "\n",
    "# save the changes\n",
    "db.commit()"
   ]
  },
  {
   "cell_type": "code",
   "execution_count": 10,
   "metadata": {},
   "outputs": [],
   "source": [
    "# close the database\n",
    "db.close()"
   ]
  }
 ],
 "metadata": {
  "kernelspec": {
   "display_name": "venv",
   "language": "python",
   "name": "python3"
  },
  "language_info": {
   "codemirror_mode": {
    "name": "ipython",
    "version": 3
   },
   "file_extension": ".py",
   "mimetype": "text/x-python",
   "name": "python",
   "nbconvert_exporter": "python",
   "pygments_lexer": "ipython3",
   "version": "3.11.4"
  }
 },
 "nbformat": 4,
 "nbformat_minor": 2
}
